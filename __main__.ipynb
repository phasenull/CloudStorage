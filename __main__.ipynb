{
 "cells": [
  {
   "cell_type": "code",
   "execution_count": 58,
   "metadata": {},
   "outputs": [
    {
     "name": "stdout",
     "output_type": "stream",
     "text": [
      "CLEARING\n",
      "CLEARED\n",
      "Init with params: [threads=10,fps=30],res=(8, 8),images_folder=images]\n"
     ]
    }
   ],
   "source": [
    "if not __name__ == '__main__':\n",
    "\traise Exception(\"Not running on __main__\")\n",
    "from classes.FileConverter import FileConverter as CFileConverter\n",
    "FileConverter = CFileConverter(10,video_res=(8,8))\n",
    "input_video = \"inputs/source_code.txt\"\n",
    "output_video = \"inputs/source_output.mp4\""
   ]
  },
  {
   "cell_type": "code",
   "execution_count": null,
   "metadata": {},
   "outputs": [],
   "source": [
    "job_id,job_length,bytes = FileConverter.CONVERT_FILE_TO_BINARY(input_video)\n",
    "bytes"
   ]
  },
  {
   "cell_type": "code",
   "execution_count": 10,
   "metadata": {},
   "outputs": [
    {
     "name": "stdout",
     "output_type": "stream",
     "text": [
      "Total Frames: {7}\n",
      "Total Pixels : 448 (64 per frame)\n",
      "0\t(7)\n",
      "1\t(7)\n",
      "2\t(7)\n",
      "3\t(7)\n",
      "4\t(7)\n",
      "5\t(7)\n",
      "6\t(7)\n",
      "Finished Rendering in 0.44\n",
      "Finished CONVERT_BINARY_TO_VIDEO in 0.7652668952941895 seconds\n"
     ]
    }
   ],
   "source": [
    "binary2 = FileConverter.CONVERT_BINARY_TO_VIDEO(job_id,output_video,job_length)"
   ]
  },
  {
   "cell_type": "code",
   "execution_count": 34,
   "metadata": {},
   "outputs": [
    {
     "name": "stdout",
     "output_type": "stream",
     "text": [
      "Rendered Video to File images (0)\n",
      "0\t(7)\n",
      "1\t(7)\n",
      "2\t(7)\n",
      "3\t(7)\n",
      "4\t(7)\n",
      "5\t(7)\n",
      "6\t(7)\n",
      "FINAL VIDEO RENDERED!\n",
      "Finished CONVERT_VIDEO_TO_BINARY in 0.9187502861022949 seconds\n"
     ]
    }
   ],
   "source": [
    "video = FileConverter.CONVERT_VIDEO_TO_BINARY(output_video,f\"output/converted.{input_video[7:]}\")"
   ]
  }
 ],
 "metadata": {
  "kernelspec": {
   "display_name": "Python 3",
   "language": "python",
   "name": "python3"
  },
  "language_info": {
   "codemirror_mode": {
    "name": "ipython",
    "version": 3
   },
   "file_extension": ".py",
   "mimetype": "text/x-python",
   "name": "python",
   "nbconvert_exporter": "python",
   "pygments_lexer": "ipython3",
   "version": "3.11.0"
  },
  "orig_nbformat": 4
 },
 "nbformat": 4,
 "nbformat_minor": 2
}
