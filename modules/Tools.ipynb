{
 "cells": [
  {
   "cell_type": "code",
   "execution_count": null,
   "metadata": {},
   "outputs": [],
   "source": [
    "BITS = 8\n",
    "import time\n",
    "import threading\n",
    "import multiprocessing"
   ]
  },
  {
   "cell_type": "code",
   "execution_count": null,
   "metadata": {},
   "outputs": [],
   "source": [
    "\n",
    "def time_function(func):\n",
    "\tdef inner1(*args, **kwargs):\n",
    "\t\tstart = time.time()\n",
    "\t\t#print(f\"Started {func.__name__} at {start} \")\n",
    "\t\treturned_value = func(*args, **kwargs)\n",
    "\t\tprint(f\"Finished {func.__name__} in {time.time() - start} seconds\")\n",
    "\t\treturn returned_value\n",
    "\treturn inner1\n"
   ]
  },
  {
   "cell_type": "code",
   "execution_count": null,
   "metadata": {},
   "outputs": [],
   "source": [
    "\n",
    "def _fit_to_bits(binary:str) -> str:\n",
    "\treturn \"0\"*(BITS-len(binary)) + binary\n"
   ]
  },
  {
   "cell_type": "code",
   "execution_count": null,
   "metadata": {},
   "outputs": [],
   "source": [
    "\n",
    "def CONVERT_CHARACTER_TO_BINARY(character: str) -> str:\n",
    "\treturn _fit_to_bits(bin(ord(character))[2:])\n"
   ]
  },
  {
   "cell_type": "code",
   "execution_count": null,
   "metadata": {},
   "outputs": [],
   "source": [
    "def _convert_binary_chunk_to_character(string: str) -> str:\n",
    "\tascii = 0\n",
    "\tfor i in range(len(string)):\n",
    "\t\tascii += int(string[-i-1])*(2**abs(i))\n",
    "\treturn chr(ascii)"
   ]
  },
  {
   "cell_type": "code",
   "execution_count": null,
   "metadata": {},
   "outputs": [],
   "source": [
    "\n",
    "\n",
    "def save_binary_chunk(chunk_index : int, chunk : str,job_id):\n",
    "\tfile = open(f\"bin/{job_id}_{chunk_index}.BINARY_CHUNK\",\"w\")\n",
    "\tfile.write(chunk)\n",
    "\tfile.close()\n"
   ]
  },
  {
   "cell_type": "code",
   "execution_count": null,
   "metadata": {},
   "outputs": [],
   "source": [
    "\n",
    "def _handle_chunk(chunk_i : int,chunk_size : int,chunk : str,job_id : str):\n",
    "\tsave_binary_chunk(chunk_i,\"\".join([CONVERT_CHARACTER_TO_BINARY(char) for char in chunk]),job_id)\n"
   ]
  },
  {
   "cell_type": "code",
   "execution_count": null,
   "metadata": {},
   "outputs": [],
   "source": [
    "@time_function\n",
    "def CONVERT_STRING_TO_BINARY(string:str,chunk_size : int = 36_864,max_threads : int = 10):\n",
    "\tlive_threads = []\n",
    "\tthread_count = 0\n",
    "\tstring_length = len(string)\n",
    "\tjob_id = f\"job_{int(time.time())}\"\n",
    "\ttotal_threads = string_length // chunk_size + (string_length % chunk_size != 0 and 1 or 0)\n",
    "\tfor i in range(total_threads):\n",
    "\t\tprint(f\"Converting String To Binary: {i}/{total_threads}\")\n",
    "\t\tthread = multiprocessing.Process(target=_handle_chunk,args=[i,\tchunk_size,\tstring[i*chunk_size:(i+1)*chunk_size],\tjob_id\t])\n",
    "\t\tthread.start()\n",
    "\t\tlive_threads.append(thread)\n",
    "\t\tthread_count += 1\n",
    "\t\tif thread_count % max_threads == 0:\n",
    "\t\t\tprint(f\"THREAD LOCK {thread_count} / {total_threads}\")\n",
    "\t\t\tfor thread in live_threads:\n",
    "\t\t\t\tthread.join()\n",
    "\t\t\t\tlive_threads.remove(thread)\n",
    "\t\tfor thread in live_threads:\n",
    "\t\t\tthread.join()\n",
    "\treturn job_id,total_threads\n"
   ]
  },
  {
   "cell_type": "code",
   "execution_count": null,
   "metadata": {},
   "outputs": [],
   "source": [
    "\n",
    "def _convert_binary_group_to_string(list:list[str]) -> str:\n",
    "\tstring = \"\".join([_convert_binary_chunk_to_character(i) for i in list])\n",
    "\treturn string\n"
   ]
  },
  {
   "cell_type": "code",
   "execution_count": null,
   "metadata": {},
   "outputs": [],
   "source": [
    "def CONVERT_BINARY_TO_STRING(binary:str) -> str:\n",
    "\treturn _convert_binary_group_to_string(_split_binary_chunk(binary))\n"
   ]
  },
  {
   "cell_type": "code",
   "execution_count": null,
   "metadata": {},
   "outputs": [],
   "source": [
    "def _split_binary_chunk(string:str) -> list[str]:\n",
    "\tchunk = []\n",
    "\tfor i in range(len(string) // BITS):\n",
    "\t\tchunk.append(string[i*BITS : (i+1)*BITS])\n",
    "\treturn chunk"
   ]
  },
  {
   "cell_type": "code",
   "execution_count": null,
   "metadata": {},
   "outputs": [],
   "source": [
    "def split_binary_chunk(string:str) -> list[str]:\n",
    "\tchunk = []\n",
    "\tfor i in range(len(string) // BITS):\n",
    "\t\tchunk.append(string[i*BITS : (i+1)*BITS])\n",
    "\treturn chunk"
   ]
  }
 ],
 "metadata": {
  "language_info": {
   "name": "python"
  },
  "orig_nbformat": 4
 },
 "nbformat": 4,
 "nbformat_minor": 2
}
